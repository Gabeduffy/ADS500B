{
  "cells": [
    {
      "cell_type": "markdown",
      "metadata": {
        "id": "view-in-github",
        "colab_type": "text"
      },
      "source": [
        "<a href=\"https://colab.research.google.com/github/Gabeduffy/ADS500B/blob/main/ADS_500B_Team_Project.ipynb\" target=\"_parent\"><img src=\"https://colab.research.google.com/assets/colab-badge.svg\" alt=\"Open In Colab\"/></a>"
      ]
    },
    {
      "cell_type": "markdown",
      "metadata": {
        "id": "7ocB5erCyF2b"
      },
      "source": [
        "**Topic #1 Data Importing and Pre-processing**"
      ]
    },
    {
      "cell_type": "markdown",
      "metadata": {
        "id": "EKJ7CPHHybY7"
      },
      "source": [
        "**Task # 1 Import dataset and describe characteristics such as dimensions, data types, file types, and import methods used**"
      ]
    },
    {
      "cell_type": "code",
      "execution_count": null,
      "metadata": {
        "id": "ttX7YtpCz2lB"
      },
      "outputs": [],
      "source": [
        "#imports the needed libraries into the current work environment\n",
        "import numpy as np\n",
        "import pandas as pd\n",
        "import matplotlib as mpl\n",
        "import matplotlib.pyplot as plt\n",
        "import seaborn as sns"
      ]
    },
    {
      "cell_type": "code",
      "execution_count": null,
      "metadata": {
        "colab": {
          "background_save": true,
          "base_uri": "https://localhost:8080/",
          "height": 36
        },
        "id": "t66vEOdfzwEk",
        "outputId": "f356e3e3-f35d-452b-9ee3-037b759df7d7"
      },
      "outputs": [
        {
          "data": {
            "text/html": [
              "\n",
              "     <input type=\"file\" id=\"files-2d348291-daeb-47be-bbed-27b2c793561d\" name=\"files[]\" multiple disabled\n",
              "        style=\"border:none\" />\n",
              "     <output id=\"result-2d348291-daeb-47be-bbed-27b2c793561d\">\n",
              "      Upload widget is only available when the cell has been executed in the\n",
              "      current browser session. Please rerun this cell to enable.\n",
              "      </output>\n",
              "      <script>// Copyright 2017 Google LLC\n",
              "//\n",
              "// Licensed under the Apache License, Version 2.0 (the \"License\");\n",
              "// you may not use this file except in compliance with the License.\n",
              "// You may obtain a copy of the License at\n",
              "//\n",
              "//      http://www.apache.org/licenses/LICENSE-2.0\n",
              "//\n",
              "// Unless required by applicable law or agreed to in writing, software\n",
              "// distributed under the License is distributed on an \"AS IS\" BASIS,\n",
              "// WITHOUT WARRANTIES OR CONDITIONS OF ANY KIND, either express or implied.\n",
              "// See the License for the specific language governing permissions and\n",
              "// limitations under the License.\n",
              "\n",
              "/**\n",
              " * @fileoverview Helpers for google.colab Python module.\n",
              " */\n",
              "(function(scope) {\n",
              "function span(text, styleAttributes = {}) {\n",
              "  const element = document.createElement('span');\n",
              "  element.textContent = text;\n",
              "  for (const key of Object.keys(styleAttributes)) {\n",
              "    element.style[key] = styleAttributes[key];\n",
              "  }\n",
              "  return element;\n",
              "}\n",
              "\n",
              "// Max number of bytes which will be uploaded at a time.\n",
              "const MAX_PAYLOAD_SIZE = 100 * 1024;\n",
              "\n",
              "function _uploadFiles(inputId, outputId) {\n",
              "  const steps = uploadFilesStep(inputId, outputId);\n",
              "  const outputElement = document.getElementById(outputId);\n",
              "  // Cache steps on the outputElement to make it available for the next call\n",
              "  // to uploadFilesContinue from Python.\n",
              "  outputElement.steps = steps;\n",
              "\n",
              "  return _uploadFilesContinue(outputId);\n",
              "}\n",
              "\n",
              "// This is roughly an async generator (not supported in the browser yet),\n",
              "// where there are multiple asynchronous steps and the Python side is going\n",
              "// to poll for completion of each step.\n",
              "// This uses a Promise to block the python side on completion of each step,\n",
              "// then passes the result of the previous step as the input to the next step.\n",
              "function _uploadFilesContinue(outputId) {\n",
              "  const outputElement = document.getElementById(outputId);\n",
              "  const steps = outputElement.steps;\n",
              "\n",
              "  const next = steps.next(outputElement.lastPromiseValue);\n",
              "  return Promise.resolve(next.value.promise).then((value) => {\n",
              "    // Cache the last promise value to make it available to the next\n",
              "    // step of the generator.\n",
              "    outputElement.lastPromiseValue = value;\n",
              "    return next.value.response;\n",
              "  });\n",
              "}\n",
              "\n",
              "/**\n",
              " * Generator function which is called between each async step of the upload\n",
              " * process.\n",
              " * @param {string} inputId Element ID of the input file picker element.\n",
              " * @param {string} outputId Element ID of the output display.\n",
              " * @return {!Iterable<!Object>} Iterable of next steps.\n",
              " */\n",
              "function* uploadFilesStep(inputId, outputId) {\n",
              "  const inputElement = document.getElementById(inputId);\n",
              "  inputElement.disabled = false;\n",
              "\n",
              "  const outputElement = document.getElementById(outputId);\n",
              "  outputElement.innerHTML = '';\n",
              "\n",
              "  const pickedPromise = new Promise((resolve) => {\n",
              "    inputElement.addEventListener('change', (e) => {\n",
              "      resolve(e.target.files);\n",
              "    });\n",
              "  });\n",
              "\n",
              "  const cancel = document.createElement('button');\n",
              "  inputElement.parentElement.appendChild(cancel);\n",
              "  cancel.textContent = 'Cancel upload';\n",
              "  const cancelPromise = new Promise((resolve) => {\n",
              "    cancel.onclick = () => {\n",
              "      resolve(null);\n",
              "    };\n",
              "  });\n",
              "\n",
              "  // Wait for the user to pick the files.\n",
              "  const files = yield {\n",
              "    promise: Promise.race([pickedPromise, cancelPromise]),\n",
              "    response: {\n",
              "      action: 'starting',\n",
              "    }\n",
              "  };\n",
              "\n",
              "  cancel.remove();\n",
              "\n",
              "  // Disable the input element since further picks are not allowed.\n",
              "  inputElement.disabled = true;\n",
              "\n",
              "  if (!files) {\n",
              "    return {\n",
              "      response: {\n",
              "        action: 'complete',\n",
              "      }\n",
              "    };\n",
              "  }\n",
              "\n",
              "  for (const file of files) {\n",
              "    const li = document.createElement('li');\n",
              "    li.append(span(file.name, {fontWeight: 'bold'}));\n",
              "    li.append(span(\n",
              "        `(${file.type || 'n/a'}) - ${file.size} bytes, ` +\n",
              "        `last modified: ${\n",
              "            file.lastModifiedDate ? file.lastModifiedDate.toLocaleDateString() :\n",
              "                                    'n/a'} - `));\n",
              "    const percent = span('0% done');\n",
              "    li.appendChild(percent);\n",
              "\n",
              "    outputElement.appendChild(li);\n",
              "\n",
              "    const fileDataPromise = new Promise((resolve) => {\n",
              "      const reader = new FileReader();\n",
              "      reader.onload = (e) => {\n",
              "        resolve(e.target.result);\n",
              "      };\n",
              "      reader.readAsArrayBuffer(file);\n",
              "    });\n",
              "    // Wait for the data to be ready.\n",
              "    let fileData = yield {\n",
              "      promise: fileDataPromise,\n",
              "      response: {\n",
              "        action: 'continue',\n",
              "      }\n",
              "    };\n",
              "\n",
              "    // Use a chunked sending to avoid message size limits. See b/62115660.\n",
              "    let position = 0;\n",
              "    do {\n",
              "      const length = Math.min(fileData.byteLength - position, MAX_PAYLOAD_SIZE);\n",
              "      const chunk = new Uint8Array(fileData, position, length);\n",
              "      position += length;\n",
              "\n",
              "      const base64 = btoa(String.fromCharCode.apply(null, chunk));\n",
              "      yield {\n",
              "        response: {\n",
              "          action: 'append',\n",
              "          file: file.name,\n",
              "          data: base64,\n",
              "        },\n",
              "      };\n",
              "\n",
              "      let percentDone = fileData.byteLength === 0 ?\n",
              "          100 :\n",
              "          Math.round((position / fileData.byteLength) * 100);\n",
              "      percent.textContent = `${percentDone}% done`;\n",
              "\n",
              "    } while (position < fileData.byteLength);\n",
              "  }\n",
              "\n",
              "  // All done.\n",
              "  yield {\n",
              "    response: {\n",
              "      action: 'complete',\n",
              "    }\n",
              "  };\n",
              "}\n",
              "\n",
              "scope.google = scope.google || {};\n",
              "scope.google.colab = scope.google.colab || {};\n",
              "scope.google.colab._files = {\n",
              "  _uploadFiles,\n",
              "  _uploadFilesContinue,\n",
              "};\n",
              "})(self);\n",
              "</script> "
            ],
            "text/plain": [
              "<IPython.core.display.HTML object>"
            ]
          },
          "metadata": {},
          "output_type": "display_data"
        }
      ],
      "source": [
        "# Let's upload the house_sales.csv data set\n",
        "from google.colab import files\n",
        "house_sales = files.upload()\n",
        "# imports the working file into a dataframe and names it \"house_sales\" and print first five observations\n",
        "house_sales = pd.read_csv(\"house_sales.csv\")\n",
        "house_sales.head()\n"
      ]
    },
    {
      "cell_type": "code",
      "execution_count": null,
      "metadata": {
        "colab": {
          "base_uri": "https://localhost:8080/"
        },
        "id": "raX46IBq1zIr",
        "outputId": "b39ae7c2-3865-40c3-a5c8-9cd911537706"
      },
      "outputs": [
        {
          "name": "stdout",
          "output_type": "stream",
          "text": [
            "<class 'pandas.core.frame.DataFrame'>\n",
            "RangeIndex: 21613 entries, 0 to 21612\n",
            "Data columns (total 21 columns):\n",
            " #   Column         Non-Null Count  Dtype  \n",
            "---  ------         --------------  -----  \n",
            " 0   id             21613 non-null  int64  \n",
            " 1   date           21613 non-null  object \n",
            " 2   price          21613 non-null  float64\n",
            " 3   bedrooms       20479 non-null  float64\n",
            " 4   bathrooms      20545 non-null  float64\n",
            " 5   sqft_living    20503 non-null  float64\n",
            " 6   sqft_lot       20569 non-null  float64\n",
            " 7   floors         21613 non-null  float64\n",
            " 8   waterfront     21613 non-null  int64  \n",
            " 9   view           21613 non-null  int64  \n",
            " 10  condition      21613 non-null  int64  \n",
            " 11  grade          21613 non-null  int64  \n",
            " 12  sqft_above     21613 non-null  int64  \n",
            " 13  sqft_basement  21613 non-null  int64  \n",
            " 14  yr_built       21613 non-null  int64  \n",
            " 15  yr_renovated   21613 non-null  int64  \n",
            " 16  zipcode        21613 non-null  int64  \n",
            " 17  lat            21613 non-null  float64\n",
            " 18  long           21613 non-null  float64\n",
            " 19  sqft_living15  21613 non-null  int64  \n",
            " 20  sqft_lot15     21613 non-null  int64  \n",
            "dtypes: float64(8), int64(12), object(1)\n",
            "memory usage: 3.5+ MB\n"
          ]
        }
      ],
      "source": [
        "\n",
        "# imports the working file into a dataframe and names it \"house_df\"\n",
        "house_df = pd.read_csv(\"house_sales.csv\")\n",
        "# info() method describes the characteristics of the dataframe such as dimensions, datatype, and import methods used.\n",
        "house_df.info()\n",
        "# provide a descriptive statistics of the \"house_sales.csv\" dataframe\n",
        "# house_df.describe(\n"
      ]
    },
    {
      "cell_type": "markdown",
      "metadata": {
        "id": "cqRW24cU2VAR"
      },
      "source": [
        "File type is Comma Seperated Values(CSV)\n",
        "Import method used is Google Colab to pull dataset from directory"
      ]
    },
    {
      "cell_type": "markdown",
      "metadata": {
        "id": "4L2Q8YHtylo5"
      },
      "source": [
        "The key variable for understanding the distribution of house prices are price column (which provides the sale prices of the houses) and zipcode column (identifies the zip codes of the houses, allowing you to group the data by zip code and analyze the distribution of house prices within each area)."
      ]
    },
    {
      "cell_type": "markdown",
      "metadata": {
        "id": "-dfdQyG71MOW"
      },
      "source": [
        "Task # 2 **Clean, wrangle, and handle missing data**"
      ]
    },
    {
      "cell_type": "code",
      "execution_count": null,
      "metadata": {
        "id": "PfNBBT2z40z8"
      },
      "outputs": [],
      "source": [
        "# Checking  for missing values\n",
        "house_sales.isnull().sum()"
      ]
    },
    {
      "cell_type": "code",
      "execution_count": null,
      "metadata": {
        "colab": {
          "base_uri": "https://localhost:8080/"
        },
        "id": "p04obfOQ5Goq",
        "outputId": "4206bbee-dc56-4e8f-cbce-79beb09bce00"
      },
      "outputs": [
        {
          "name": "stdout",
          "output_type": "stream",
          "text": [
            "id               0\n",
            "date             0\n",
            "price            0\n",
            "bedrooms         0\n",
            "bathrooms        0\n",
            "sqft_living      0\n",
            "sqft_lot         0\n",
            "floors           0\n",
            "waterfront       0\n",
            "view             0\n",
            "condition        0\n",
            "grade            0\n",
            "sqft_above       0\n",
            "sqft_basement    0\n",
            "yr_built         0\n",
            "yr_renovated     0\n",
            "zipcode          0\n",
            "lat              0\n",
            "long             0\n",
            "sqft_living15    0\n",
            "sqft_lot15       0\n",
            "dtype: int64\n"
          ]
        }
      ],
      "source": [
        "#Imputing missing values with the mode (most frequent value) of the categorical columns\n",
        "house_sales['waterfront'].fillna(house_sales['waterfront'].mode()[0], inplace=True)\n",
        "house_sales['view'].fillna(house_sales['view'].mode()[0], inplace=True)\n",
        "house_sales['condition'].fillna(house_sales['condition'].mode()[0], inplace=True)\n",
        "house_sales['grade'].fillna(house_sales['grade'].mode()[0], inplace=True)\n",
        "\n",
        "# Imputing missing values for numerical columns with mean\n",
        "house_sales['bedrooms'].fillna(house_sales['bedrooms'].mean(), inplace=True)\n",
        "house_sales['bathrooms'].fillna(house_sales['bathrooms'].mean(), inplace=True)\n",
        "house_sales['sqft_living'].fillna(house_sales['sqft_living'].mean(), inplace=True)\n",
        "house_sales['sqft_lot'].fillna(house_sales['sqft_lot'].mean(), inplace=True)\n",
        "\n",
        "# Verifing that there are no more missing values in the columns\n",
        "print(house_sales.isnull().sum())"
      ]
    },
    {
      "cell_type": "markdown",
      "metadata": {
        "id": "VQ6ZVd8O5Xf7"
      },
      "source": [
        "**Imputing with Mode or Mean:**\n",
        "\n",
        "For categorical columns like waterfront, view, condition, and grade, imputing missing values with the mode (most frequent value) of each respective column.\n",
        "\n",
        "For numerical columns like bedrooms, bathrooms, sqft_living, and sqft_lot imputing the missing values with the mean of each respective column.\n",
        "\n",
        "**Dropping Missing Values:**\n",
        "\n",
        "If the proportion of missing values is very small and randomly distributed, then dropping those rows entirely is better choice. However, if dropping missing values would result in a significant loss of data, especially in columns critical for analysis, imputation might be a better choice."
      ]
    },
    {
      "cell_type": "markdown",
      "metadata": {
        "id": "dsb4KKUw5s47"
      },
      "source": [
        "Task #3 **Transform data appropriately using techniques such as aggregation, normalization, and feature construction**"
      ]
    },
    {
      "cell_type": "code",
      "execution_count": null,
      "metadata": {
        "id": "GsfIqOQe5z1G"
      },
      "outputs": [],
      "source": []
    },
    {
      "cell_type": "code",
      "execution_count": null,
      "metadata": {
        "id": "lLZjep539Rft"
      },
      "outputs": [],
      "source": []
    },
    {
      "cell_type": "markdown",
      "metadata": {
        "id": "_wvvmT7H9RyQ"
      },
      "source": [
        "Task #4 **Reduce redundant data and perform need based discretization**"
      ]
    },
    {
      "cell_type": "code",
      "execution_count": null,
      "metadata": {
        "colab": {
          "base_uri": "https://localhost:8080/",
          "height": 600
        },
        "id": "csmhi8YE9khZ",
        "outputId": "f5b4c63c-462b-45a6-955b-42524b0f8328"
      },
      "outputs": [
        {
          "data": {
            "text/html": [
              "\n",
              "     <input type=\"file\" id=\"files-033401be-267b-44f8-8095-b986a76af555\" name=\"files[]\" multiple disabled\n",
              "        style=\"border:none\" />\n",
              "     <output id=\"result-033401be-267b-44f8-8095-b986a76af555\">\n",
              "      Upload widget is only available when the cell has been executed in the\n",
              "      current browser session. Please rerun this cell to enable.\n",
              "      </output>\n",
              "      <script>// Copyright 2017 Google LLC\n",
              "//\n",
              "// Licensed under the Apache License, Version 2.0 (the \"License\");\n",
              "// you may not use this file except in compliance with the License.\n",
              "// You may obtain a copy of the License at\n",
              "//\n",
              "//      http://www.apache.org/licenses/LICENSE-2.0\n",
              "//\n",
              "// Unless required by applicable law or agreed to in writing, software\n",
              "// distributed under the License is distributed on an \"AS IS\" BASIS,\n",
              "// WITHOUT WARRANTIES OR CONDITIONS OF ANY KIND, either express or implied.\n",
              "// See the License for the specific language governing permissions and\n",
              "// limitations under the License.\n",
              "\n",
              "/**\n",
              " * @fileoverview Helpers for google.colab Python module.\n",
              " */\n",
              "(function(scope) {\n",
              "function span(text, styleAttributes = {}) {\n",
              "  const element = document.createElement('span');\n",
              "  element.textContent = text;\n",
              "  for (const key of Object.keys(styleAttributes)) {\n",
              "    element.style[key] = styleAttributes[key];\n",
              "  }\n",
              "  return element;\n",
              "}\n",
              "\n",
              "// Max number of bytes which will be uploaded at a time.\n",
              "const MAX_PAYLOAD_SIZE = 100 * 1024;\n",
              "\n",
              "function _uploadFiles(inputId, outputId) {\n",
              "  const steps = uploadFilesStep(inputId, outputId);\n",
              "  const outputElement = document.getElementById(outputId);\n",
              "  // Cache steps on the outputElement to make it available for the next call\n",
              "  // to uploadFilesContinue from Python.\n",
              "  outputElement.steps = steps;\n",
              "\n",
              "  return _uploadFilesContinue(outputId);\n",
              "}\n",
              "\n",
              "// This is roughly an async generator (not supported in the browser yet),\n",
              "// where there are multiple asynchronous steps and the Python side is going\n",
              "// to poll for completion of each step.\n",
              "// This uses a Promise to block the python side on completion of each step,\n",
              "// then passes the result of the previous step as the input to the next step.\n",
              "function _uploadFilesContinue(outputId) {\n",
              "  const outputElement = document.getElementById(outputId);\n",
              "  const steps = outputElement.steps;\n",
              "\n",
              "  const next = steps.next(outputElement.lastPromiseValue);\n",
              "  return Promise.resolve(next.value.promise).then((value) => {\n",
              "    // Cache the last promise value to make it available to the next\n",
              "    // step of the generator.\n",
              "    outputElement.lastPromiseValue = value;\n",
              "    return next.value.response;\n",
              "  });\n",
              "}\n",
              "\n",
              "/**\n",
              " * Generator function which is called between each async step of the upload\n",
              " * process.\n",
              " * @param {string} inputId Element ID of the input file picker element.\n",
              " * @param {string} outputId Element ID of the output display.\n",
              " * @return {!Iterable<!Object>} Iterable of next steps.\n",
              " */\n",
              "function* uploadFilesStep(inputId, outputId) {\n",
              "  const inputElement = document.getElementById(inputId);\n",
              "  inputElement.disabled = false;\n",
              "\n",
              "  const outputElement = document.getElementById(outputId);\n",
              "  outputElement.innerHTML = '';\n",
              "\n",
              "  const pickedPromise = new Promise((resolve) => {\n",
              "    inputElement.addEventListener('change', (e) => {\n",
              "      resolve(e.target.files);\n",
              "    });\n",
              "  });\n",
              "\n",
              "  const cancel = document.createElement('button');\n",
              "  inputElement.parentElement.appendChild(cancel);\n",
              "  cancel.textContent = 'Cancel upload';\n",
              "  const cancelPromise = new Promise((resolve) => {\n",
              "    cancel.onclick = () => {\n",
              "      resolve(null);\n",
              "    };\n",
              "  });\n",
              "\n",
              "  // Wait for the user to pick the files.\n",
              "  const files = yield {\n",
              "    promise: Promise.race([pickedPromise, cancelPromise]),\n",
              "    response: {\n",
              "      action: 'starting',\n",
              "    }\n",
              "  };\n",
              "\n",
              "  cancel.remove();\n",
              "\n",
              "  // Disable the input element since further picks are not allowed.\n",
              "  inputElement.disabled = true;\n",
              "\n",
              "  if (!files) {\n",
              "    return {\n",
              "      response: {\n",
              "        action: 'complete',\n",
              "      }\n",
              "    };\n",
              "  }\n",
              "\n",
              "  for (const file of files) {\n",
              "    const li = document.createElement('li');\n",
              "    li.append(span(file.name, {fontWeight: 'bold'}));\n",
              "    li.append(span(\n",
              "        `(${file.type || 'n/a'}) - ${file.size} bytes, ` +\n",
              "        `last modified: ${\n",
              "            file.lastModifiedDate ? file.lastModifiedDate.toLocaleDateString() :\n",
              "                                    'n/a'} - `));\n",
              "    const percent = span('0% done');\n",
              "    li.appendChild(percent);\n",
              "\n",
              "    outputElement.appendChild(li);\n",
              "\n",
              "    const fileDataPromise = new Promise((resolve) => {\n",
              "      const reader = new FileReader();\n",
              "      reader.onload = (e) => {\n",
              "        resolve(e.target.result);\n",
              "      };\n",
              "      reader.readAsArrayBuffer(file);\n",
              "    });\n",
              "    // Wait for the data to be ready.\n",
              "    let fileData = yield {\n",
              "      promise: fileDataPromise,\n",
              "      response: {\n",
              "        action: 'continue',\n",
              "      }\n",
              "    };\n",
              "\n",
              "    // Use a chunked sending to avoid message size limits. See b/62115660.\n",
              "    let position = 0;\n",
              "    do {\n",
              "      const length = Math.min(fileData.byteLength - position, MAX_PAYLOAD_SIZE);\n",
              "      const chunk = new Uint8Array(fileData, position, length);\n",
              "      position += length;\n",
              "\n",
              "      const base64 = btoa(String.fromCharCode.apply(null, chunk));\n",
              "      yield {\n",
              "        response: {\n",
              "          action: 'append',\n",
              "          file: file.name,\n",
              "          data: base64,\n",
              "        },\n",
              "      };\n",
              "\n",
              "      let percentDone = fileData.byteLength === 0 ?\n",
              "          100 :\n",
              "          Math.round((position / fileData.byteLength) * 100);\n",
              "      percent.textContent = `${percentDone}% done`;\n",
              "\n",
              "    } while (position < fileData.byteLength);\n",
              "  }\n",
              "\n",
              "  // All done.\n",
              "  yield {\n",
              "    response: {\n",
              "      action: 'complete',\n",
              "    }\n",
              "  };\n",
              "}\n",
              "\n",
              "scope.google = scope.google || {};\n",
              "scope.google.colab = scope.google.colab || {};\n",
              "scope.google.colab._files = {\n",
              "  _uploadFiles,\n",
              "  _uploadFilesContinue,\n",
              "};\n",
              "})(self);\n",
              "</script> "
            ],
            "text/plain": [
              "<IPython.core.display.HTML object>"
            ]
          },
          "metadata": {},
          "output_type": "display_data"
        },
        {
          "name": "stdout",
          "output_type": "stream",
          "text": [
            "Saving house_sales.csv to house_sales (2).csv\n",
            "           id             date     price  bedrooms  bathrooms  sqft_living  \\\n",
            "0  7129300520  20141013T000000  221900.0       3.0       1.00       1180.0   \n",
            "1  6414100192  20141209T000000  538000.0       3.0       2.25       2570.0   \n",
            "2  5631500400  20150225T000000  180000.0       2.0       1.00        770.0   \n",
            "3  2487200875  20141209T000000  604000.0       4.0       3.00       1960.0   \n",
            "4  1954400510  20150218T000000  510000.0       3.0       2.00       1680.0   \n",
            "\n",
            "   sqft_lot  floors  waterfront  view  ...  grade  sqft_above  sqft_basement  \\\n",
            "0    5650.0     1.0           0     0  ...      7        1180              0   \n",
            "1    7242.0     2.0           0     0  ...      7        2170            400   \n",
            "2   10000.0     1.0           0     0  ...      6         770              0   \n",
            "3    5000.0     1.0           0     0  ...      7        1050            910   \n",
            "4    8080.0     1.0           0     0  ...      8        1680              0   \n",
            "\n",
            "   yr_built  yr_renovated  zipcode      lat     long  sqft_living15  \\\n",
            "0      1955             0    98178  47.5112 -122.257           1340   \n",
            "1      1951          1991    98125  47.7210 -122.319           1690   \n",
            "2      1933             0    98028  47.7379 -122.233           2720   \n",
            "3      1965             0    98136  47.5208 -122.393           1360   \n",
            "4      1987             0    98074  47.6168 -122.045           1800   \n",
            "\n",
            "   sqft_lot15  \n",
            "0        5650  \n",
            "1        7639  \n",
            "2        8062  \n",
            "3        5000  \n",
            "4        7503  \n",
            "\n",
            "[5 rows x 21 columns]\n"
          ]
        }
      ],
      "source": [
        "# uploading dataset to google colab\n",
        "from google.colab import files\n",
        "uploaded = files.upload()\n",
        "#read data into Dataframe\n",
        "import pandas as pd\n",
        "house_sales = pd.read_csv('house_sales.csv')\n",
        "#priniting first few rows of dataset to makesure uploaded properly\n",
        "print(house_sales.head())"
      ]
    },
    {
      "cell_type": "code",
      "execution_count": null,
      "metadata": {
        "colab": {
          "base_uri": "https://localhost:8080/"
        },
        "id": "s2zskdKZARdq",
        "outputId": "2fea60e6-2ae5-48d0-d479-1241142bf5a5"
      },
      "outputs": [
        {
          "name": "stdout",
          "output_type": "stream",
          "text": [
            "      price  bedrooms  bathrooms  sqft_living  sqft_lot  waterfront  view  \\\n",
            "0  221900.0       3.0       1.00       1180.0    5650.0           0     0   \n",
            "1  538000.0       3.0       2.25       2570.0    7242.0           0     0   \n",
            "2  180000.0       2.0       1.00        770.0   10000.0           0     0   \n",
            "3  604000.0       4.0       3.00       1960.0    5000.0           0     0   \n",
            "4  510000.0       3.0       2.00       1680.0    8080.0           0     0   \n",
            "\n",
            "   condition  grade  zipcode  \n",
            "0          3      7    98178  \n",
            "1          3      7    98125  \n",
            "2          3      6    98028  \n",
            "3          5      7    98136  \n",
            "4          3      8    98074  \n"
          ]
        }
      ],
      "source": [
        "# identifying redundant or irrelevent columns\n",
        "columns_to_drop = ['id', 'date', 'floors', 'sqft_above','sqft_basement','yr_built','lat','long', 'yr_renovated','sqft_living15','sqft_lot15']\n",
        "# remove identified columns from the Dataframe\n",
        "house_sales_cleaned = house_sales.drop(columns=columns_to_drop)\n",
        "#priniting cleaned data to make sure columns were dropped\n",
        "print(house_sales_cleaned.head())\n"
      ]
    },
    {
      "cell_type": "code",
      "execution_count": null,
      "metadata": {
        "colab": {
          "base_uri": "https://localhost:8080/"
        },
        "id": "TBQhmnBbGCKy",
        "outputId": "5dbba40a-9efa-4c26-c045-4a929ea347d4"
      },
      "outputs": [
        {
          "name": "stdout",
          "output_type": "stream",
          "text": [
            "id               0\n",
            "date             0\n",
            "price            0\n",
            "bedrooms         0\n",
            "bathrooms        0\n",
            "sqft_living      0\n",
            "sqft_lot         0\n",
            "floors           0\n",
            "waterfront       0\n",
            "view             0\n",
            "condition        0\n",
            "grade            0\n",
            "sqft_above       0\n",
            "sqft_basement    0\n",
            "yr_built         0\n",
            "yr_renovated     0\n",
            "zipcode          0\n",
            "lat              0\n",
            "long             0\n",
            "sqft_living15    0\n",
            "sqft_lot15       0\n",
            "dtype: int64\n"
          ]
        }
      ],
      "source": [
        "\n",
        "# identifying missing values\n",
        "missing_values = house_sales.isna().sum()\n",
        "\n",
        "#Imputing missing values with the mode (most frequent value) of the categorical columns\n",
        "house_sales['waterfront'].fillna(house_sales['waterfront'].mode()[0], inplace=True)\n",
        "house_sales['view'].fillna(house_sales['view'].mode()[0], inplace=True)\n",
        "house_sales['condition'].fillna(house_sales['condition'].mode()[0], inplace=True)\n",
        "house_sales['grade'].fillna(house_sales['grade'].mode()[0], inplace=True)\n",
        "\n",
        "# Imputing missing values for numerical columns with mean\n",
        "house_sales['bedrooms'].fillna(house_sales['bedrooms'].mean(), inplace=True)\n",
        "house_sales['bathrooms'].fillna(house_sales['bathrooms'].mean(), inplace=True)\n",
        "house_sales['sqft_living'].fillna(house_sales['sqft_living'].mean(), inplace=True)\n",
        "house_sales['sqft_lot'].fillna(house_sales['sqft_lot'].mean(), inplace=True)\n",
        "\n",
        "# Verifing that there are no more missing values\n",
        "print(house_sales.isnull().sum())\n"
      ]
    },
    {
      "cell_type": "code",
      "execution_count": null,
      "metadata": {
        "id": "8n4nDv00tejC"
      },
      "outputs": [],
      "source": []
    },
    {
      "cell_type": "code",
      "execution_count": null,
      "metadata": {
        "colab": {
          "base_uri": "https://localhost:8080/"
        },
        "id": "4fpC-rSUGJAe",
        "outputId": "9c1ccd69-cb66-4cfe-a538-ef01a0f3a46e"
      },
      "outputs": [
        {
          "name": "stdout",
          "output_type": "stream",
          "text": [
            "           bedrooms     bathrooms   sqft_living      sqft_lot\n",
            "count  21613.000000  21613.000000  21613.000000  2.161300e+04\n",
            "mean       3.372821      2.113507   2081.073697  1.517982e+04\n",
            "std        0.905964      0.749674    891.234976  4.047174e+04\n",
            "min        0.000000      0.000000    290.000000  5.200000e+02\n",
            "25%        3.000000      1.750000   1450.000000  5.140000e+03\n",
            "50%        3.000000      2.113507   1980.000000  7.830000e+03\n",
            "75%        4.000000      2.500000   2510.000000  1.186700e+04\n",
            "max       33.000000      8.000000  12050.000000  1.651359e+06\n"
          ]
        }
      ],
      "source": [
        "# select numerical columns for discretization\n",
        "numerical_columns = ['bedrooms', 'bathrooms', 'sqft_living', 'sqft_lot']\n",
        "\n",
        "# display statistics of numerical columns\n",
        "print(house_sales[numerical_columns].describe())\n"
      ]
    },
    {
      "cell_type": "code",
      "execution_count": null,
      "metadata": {
        "colab": {
          "base_uri": "https://localhost:8080/",
          "height": 1000
        },
        "id": "tB7UByzbGTq9",
        "outputId": "d624798d-9272-406c-c75a-09797061c46b"
      },
      "outputs": [
        {
          "data": {
            "image/png": "[encoded data removed]",
            "text/plain": [
              "<Figure size 800x600 with 1 Axes>"
            ]
          },
          "metadata": {},
          "output_type": "display_data"
        },
        {
          "data": {
            "image/png": "[encoded data removed]",
            "text/plain": [
              "<Figure size 800x600 with 1 Axes>"
            ]
          },
          "metadata": {},
          "output_type": "display_data"
        },
        {
          "data": {
            "image/png": "[encoded data removed]",
            "text/plain": [
              "<Figure size 800x600 with 1 Axes>"
            ]
          },
          "metadata": {},
          "output_type": "display_data"
        },
        {
          "data": {
            "image/png": "[encoded data removed]",
            "text/plain": [
              "<Figure size 800x600 with 1 Axes>"
            ]
          },
          "metadata": {},
          "output_type": "display_data"
        }
      ],
      "source": [
        "# Visualize the distribution of values in each numerical column\n",
        "import matplotlib.pyplot as plt\n",
        "import seaborn as sns\n",
        "\n",
        "# give visualization charcteristics:\n",
        "for column in numerical_columns:\n",
        "  plt.figure(figsize=(8,6))\n",
        "  sns.histplot(house_sales[column], bins=20, kde=True)\n",
        "  plt.title(f'Distrubution of {column}')\n",
        "  plt.xlabel(column)\n",
        "  plt.ylabel('Frequency')\n",
        "  plt.show()\n"
      ]
    },
    {
      "cell_type": "markdown",
      "metadata": {
        "id": "khuGTdmN1QEH"
      },
      "source": [
        "**Topic #3 Data Analytics**"
      ]
    },
    {
      "cell_type": "markdown",
      "metadata": {
        "id": "n6-S5cG_1nby"
      },
      "source": [
        "**Task # 1 Determine the need for a supervised or unsupervised learning method and identify dependent and independent variables**\n",
        "\n",
        "**Task # 2 Train, test, and provide accuracy and evaluation metrics for model results**\n"
      ]
    },
    {
      "cell_type": "markdown",
      "metadata": {
        "id": "uEN3QEV62W8A"
      },
      "source": [
        "**Unsupervised Learning Method**"
      ]
    },
    {
      "cell_type": "markdown",
      "metadata": {
        "id": "YH5QU_6XR2eJ"
      },
      "source": [
        "key variables for understanding the distribution of house prices are the price column and the zipcode column, and the goal is to analyze the distribution of house prices within each area (zip code). In this case, the dependent variable would be the price column, and the independent variable would be the zipcode column."
      ]
    },
    {
      "cell_type": "code",
      "execution_count": null,
      "metadata": {
        "colab": {
          "base_uri": "https://localhost:8080/"
        },
        "id": "77Obl3aCWYt6",
        "outputId": "9ae5b4de-0dc5-4991-934b-2bfa3b721332"
      },
      "outputs": [
        {
          "name": "stdout",
          "output_type": "stream",
          "text": [
            "Cluster 0:\n",
            "         count  mean price      std       min       25%       50%       75%  \\\n",
            "zipcode                                                                       \n",
            "98001   323.00   254483.30 60758.52 100000.00 212250.00 250000.00 289975.00   \n",
            "98002   199.00   234284.04 52041.45  95000.00 199975.00 235000.00 268500.00   \n",
            "98003   252.00   266038.72 57468.24 128000.00 225000.00 258625.00 305000.00   \n",
            "98005     2.00   405550.00  7848.89 400000.00 402775.00 405550.00 408325.00   \n",
            "98006    25.00   347278.00 45933.18 247500.00 331500.00 365000.00 380000.00   \n",
            "98007    10.00   370730.00 37041.66 295000.00 352500.00 382500.00 398825.00   \n",
            "98008    27.00   361298.15 44664.80 250000.00 350000.00 370000.00 397500.00   \n",
            "98010    57.00   278337.70 67543.56 135000.00 224400.00 263500.00 335000.00   \n",
            "98011    49.00   359482.14 44717.14 245500.00 333500.00 370900.00 398000.00   \n",
            "98014    61.00   285996.59 87893.88  80000.00 225000.00 307000.00 345000.00   \n",
            "\n",
            "              max  \n",
            "zipcode            \n",
            "98001   411000.00  \n",
            "98002   389000.00  \n",
            "98003   410500.00  \n",
            "98005   411100.00  \n",
            "98006   400000.00  \n",
            "98007   412000.00  \n",
            "98008   412000.00  \n",
            "98010   408506.00  \n",
            "98011   411800.00  \n",
            "98014   410500.00  \n",
            "\n",
            "Cluster 1:\n",
            "         count  mean price       std        min        25%        50%  \\\n",
            "zipcode                                                                 \n",
            "98004   130.00  1576576.00 254396.15 1145000.00 1388000.00 1577500.00   \n",
            "98005    15.00  1457533.33 308683.12 1150000.00 1207500.00 1300000.00   \n",
            "98006    82.00  1416223.54 233916.06 1150000.00 1223500.00 1360000.00   \n",
            "98007     3.00  1256333.33  50846.17 1225000.00 1227000.00 1229000.00   \n",
            "98008    11.00  1387709.09 178390.73 1146800.00 1287500.00 1355000.00   \n",
            "98014     3.00  1630000.00  43588.99 1600000.00 1605000.00 1610000.00   \n",
            "98023     2.00  1212500.00  88388.35 1150000.00 1181250.00 1212500.00   \n",
            "98024     7.00  1620857.14 124903.20 1459000.00 1562500.00 1600000.00   \n",
            "98027    14.00  1374142.86 195905.73 1150000.00 1243000.00 1341500.00   \n",
            "98028     1.00  1600000.00       NaN 1600000.00 1600000.00 1600000.00   \n",
            "\n",
            "               75%        max  \n",
            "zipcode                        \n",
            "98004   1773750.00 2135000.00  \n",
            "98005   1739500.00 1960000.00  \n",
            "98006   1581212.50 2110000.00  \n",
            "98007   1272000.00 1315000.00  \n",
            "98008   1497500.00 1700000.00  \n",
            "98014   1645000.00 1680000.00  \n",
            "98023   1243750.00 1275000.00  \n",
            "98024   1650000.00 1862000.00  \n",
            "98027   1482500.00 1800000.00  \n",
            "98028   1600000.00 1600000.00  \n",
            "\n",
            "Cluster 2:\n",
            "         count  mean price       std       min       25%       50%       75%  \\\n",
            "zipcode                                                                        \n",
            "98001     1.00   850000.00       NaN 850000.00 850000.00 850000.00 850000.00   \n",
            "98003     3.00   833333.33 106926.77 740000.00 775000.00 810000.00 880000.00   \n",
            "98004   130.00   879713.12 115250.69 680000.00 780250.00 875000.00 978000.00   \n",
            "98005    98.00   841935.20 106803.45 680000.00 753500.00 830500.00 925000.00   \n",
            "98006   211.00   853968.10 113410.25 680000.00 760000.00 828200.00 933904.00   \n",
            "98007    40.00   838799.72 116577.71 685000.00 745500.00 808500.00 905625.00   \n",
            "98008    43.00   806560.47  99003.14 681500.00 743000.00 790000.00 850500.00   \n",
            "98010    13.00   768150.00  76763.98 679000.00 712000.00 760000.00 790000.00   \n",
            "98011    13.00   794185.00 102785.55 699000.00 730000.00 749995.00 845950.00   \n",
            "98014    12.00   799335.83  76470.63 685530.00 751000.00 795000.00 813750.00   \n",
            "\n",
            "               max  \n",
            "zipcode             \n",
            "98001    850000.00  \n",
            "98003    950000.00  \n",
            "98004   1130000.00  \n",
            "98005   1125000.00  \n",
            "98006   1126000.00  \n",
            "98007   1135000.00  \n",
            "98008   1075000.00  \n",
            "98010    935000.00  \n",
            "98011   1075000.00  \n",
            "98014    937500.00  \n",
            "\n",
            "Cluster 3:\n",
            "         count  mean price        std        min        25%        50%  \\\n",
            "zipcode                                                                  \n",
            "98004    32.00  2968667.19 1033144.42 2150000.00 2315000.00 2608050.00   \n",
            "98006    11.00  2746000.00  579926.89 2250000.00 2385000.00 2500000.00   \n",
            "98008     6.00  3074166.67  474503.71 2300000.00 2844500.00 3289000.00   \n",
            "98027     4.00  2434722.50  252410.92 2200000.00 2229167.50 2419445.00   \n",
            "98029     1.00  2200000.00        NaN 2200000.00 2200000.00 2200000.00   \n",
            "98033    10.00  2843980.00  861259.11 2225000.00 2358750.00 2612000.00   \n",
            "98034     5.00  2709000.00  487447.43 2150000.00 2205000.00 3000000.00   \n",
            "98039    20.00  3187579.00 1195695.62 2187730.00 2456000.00 2735000.00   \n",
            "98040    17.00  2972762.35  886116.62 2196000.00 2367000.00 2600000.00   \n",
            "98052     1.00  2200000.00        NaN 2200000.00 2200000.00 2200000.00   \n",
            "\n",
            "               75%        max  \n",
            "zipcode                        \n",
            "98004   3176562.50 7062500.00  \n",
            "98006   2916500.00 4208000.00  \n",
            "98008   3300000.00 3567000.00  \n",
            "98027   2625000.00 2700000.00  \n",
            "98029   2200000.00 2200000.00  \n",
            "98033   2700000.00 5110800.00  \n",
            "98034   3070000.00 3120000.00  \n",
            "98039   3636475.00 6885000.00  \n",
            "98040   3100000.00 5300000.00  \n",
            "98052   2200000.00 2200000.00  \n",
            "\n",
            "Cluster 4:\n",
            "         count  mean price      std       min       25%       50%       75%  \\\n",
            "zipcode                                                                       \n",
            "98001    38.00   489557.71 62441.78 415000.00 434375.00 480000.00 532306.25   \n",
            "98003    25.00   512376.00 69634.20 420000.00 460000.00 485000.00 560000.00   \n",
            "98004    25.00   620558.00 51521.22 425000.00 607000.00 640000.00 650000.00   \n",
            "98005    53.00   583470.74 59698.55 449228.00 542500.00 577000.00 635000.00   \n",
            "98006   169.00   549807.51 74718.50 417000.00 495000.00 550000.00 615000.00   \n",
            "98007    88.00   522540.09 72980.74 413107.00 460750.00 519000.00 576250.00   \n",
            "98008   196.00   533324.68 71678.73 415000.00 474178.75 531250.00 583500.00   \n",
            "98010    30.00   550513.33 88094.26 415000.00 463750.00 572500.00 628750.00   \n",
            "98011   133.00   508868.47 65861.07 413000.00 454000.00 490500.00 551000.00   \n",
            "98014    48.00   511847.92 70261.44 415000.00 452500.00 501500.00 560000.00   \n",
            "\n",
            "              max  \n",
            "zipcode            \n",
            "98001   639900.00  \n",
            "98003   649000.00  \n",
            "98004   672000.00  \n",
            "98005   675500.00  \n",
            "98006   675000.00  \n",
            "98007   665000.00  \n",
            "98008   678000.00  \n",
            "98010   675000.00  \n",
            "98011   664500.00  \n",
            "98014   660000.00  \n",
            "\n"
          ]
        }
      ],
      "source": [
        "import pandas as pd\n",
        "from sklearn.cluster import KMeans\n",
        "\n",
        "# identifying missing values\n",
        "missing_values = house_sales.isna().sum()\n",
        "\n",
        "#Imputing missing values with the mode (most frequent value) of the categorical columns\n",
        "house_sales['waterfront'].fillna(house_sales['waterfront'].mode()[0], inplace=True)\n",
        "house_sales['view'].fillna(house_sales['view'].mode()[0], inplace=True)\n",
        "house_sales['condition'].fillna(house_sales['condition'].mode()[0], inplace=True)\n",
        "house_sales['grade'].fillna(house_sales['grade'].mode()[0], inplace=True)\n",
        "\n",
        "# Imputing missing values for numerical columns with mean\n",
        "house_sales['bedrooms'].fillna(house_sales['bedrooms'].mean(), inplace=True)\n",
        "house_sales['bathrooms'].fillna(house_sales['bathrooms'].mean(), inplace=True)\n",
        "house_sales['sqft_living'].fillna(house_sales['sqft_living'].mean(), inplace=True)\n",
        "house_sales['sqft_lot'].fillna(house_sales['sqft_lot'].mean(), inplace=True)\n",
        "\n",
        "# Set pandas display options to show numbers in full format\n",
        "pd.set_option('display.float_format', lambda x: '%.2f' % x)\n",
        "\n",
        "# Extract relevant features (price and zipcode)\n",
        "X = house_sales[['price', 'zipcode']]\n",
        "\n",
        "# Initialize the KMeans model with the number of clusters and n_init\n",
        "n_clusters = 5  # example\n",
        "n_init = 10  # explicitly to suppress the warning\n",
        "kmeans = KMeans(n_clusters=n_clusters, n_init=n_init, random_state=42)\n",
        "\n",
        "# Fit the model to the data\n",
        "kmeans.fit(X)\n",
        "\n",
        "# Add cluster labels to the DataFrame\n",
        "house_sales['Cluster'] = kmeans.labels_\n",
        "\n",
        "# Group the data by cluster and zipcode and compute statistics\n",
        "cluster_zipcode_stats = house_sales.groupby(['Cluster', 'zipcode'])['price'].describe()[['count', 'mean', 'std', 'min', '25%', '50%', '75%', 'max']]\n",
        "# Change the column header from 'mean' to 'mean price'\n",
        "cluster_zipcode_stats.columns = ['count', 'mean price', 'std', 'min', '25%', '50%', '75%', 'max']\n",
        "# Display the statistics with zip codes for each cluster\n",
        "for cluster in range(n_clusters):\n",
        "    print(f\"Cluster {cluster}:\")\n",
        "    print(cluster_zipcode_stats.loc[cluster].head(10))\n",
        "    print()"
      ]
    },
    {
      "cell_type": "markdown",
      "metadata": {
        "id": "DyGVfLXiYiks"
      },
      "source": [
        "**Unsupervised Learning Method Data Analysis Findings:**\n",
        "\n",
        "1.)Cluster 3 zip codes have the highest mean prices of all the clusters\n",
        "\n",
        "2.)Cluster 0 zip codes has the lowerst mean prices of all the clusters"
      ]
    },
    {
      "cell_type": "markdown",
      "metadata": {
        "id": "NfwCwpwQaLDs"
      },
      "source": [
        "Determining which cluster has the higest Standard Deviation"
      ]
    },
    {
      "cell_type": "code",
      "execution_count": 31,
      "metadata": {
        "colab": {
          "base_uri": "https://localhost:8080/"
        },
        "id": "oKAeaMksaZQy",
        "outputId": "224feb4a-6f14-428f-9c93-b8425cde120c"
      },
      "outputs": [
        {
          "output_type": "stream",
          "name": "stdout",
          "text": [
            "Cluster 3 has the highest average standard deviation: 614007.25\n"
          ]
        }
      ],
      "source": [
        "\n",
        "# Identify the cluster with the highest average standard deviation\n",
        "max_deviation_cluster = average_std.idxmax()\n",
        "max_deviation_value = average_std[max_deviation_cluster]\n",
        "\n",
        "# Print the cluster with the highest average standard deviation\n",
        "print(f\"Cluster {max_deviation_cluster} has the highest average standard deviation: {max_deviation_value:.2f}\")"
      ]
    },
    {
      "cell_type": "markdown",
      "metadata": {
        "id": "z-8c-3NAwVBK"
      },
      "source": [
        "**Determining whether the zipcode variable has a statistically significant effect on the price variable.**"
      ]
    },
    {
      "cell_type": "code",
      "execution_count": 33,
      "metadata": {
        "id": "FB163bESwYSB",
        "colab": {
          "base_uri": "https://localhost:8080/"
        },
        "outputId": "4300084d-be6a-4e6b-a8b1-926358363d03"
      },
      "outputs": [
        {
          "output_type": "stream",
          "name": "stdout",
          "text": [
            "ANOVA F-statistic: 214.63\n",
            "ANOVA p-value: 0.00\n"
          ]
        }
      ],
      "source": [
        "from scipy.stats import f_oneway\n",
        "\n",
        "# Group the data by zipcode and calculate the mean price for each group\n",
        "zipcode_groups = house_sales.groupby('zipcode')['price'].apply(list)\n",
        "\n",
        "# Perform ANOVA\n",
        "f_statistic, p_value = f_oneway(*zipcode_groups)\n",
        "\n",
        "print(f\"ANOVA F-statistic: {f_statistic:.2f}\")\n",
        "print(f\"ANOVA p-value: {p_value:.2f}\")"
      ]
    },
    {
      "cell_type": "markdown",
      "source": [
        "** Are statisics indicate that there are significant differences in mean prices across different zipcodes.**"
      ],
      "metadata": {
        "id": "KxcD7uPbASjX"
      }
    }
  ],
  "metadata": {
    "colab": {
      "provenance": [],
      "include_colab_link": true
    },
    "kernelspec": {
      "display_name": "Python 3",
      "name": "python3"
    },
    "language_info": {
      "name": "python"
    }
  },
  "nbformat": 4,
  "nbformat_minor": 0
}