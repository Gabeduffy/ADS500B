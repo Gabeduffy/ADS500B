{
  "nbformat": 4,
  "nbformat_minor": 0,
  "metadata": {
    "colab": {
      "private_outputs": true,
      "provenance": [],
      "include_colab_link": true
    },
    "kernelspec": {
      "name": "python3",
      "display_name": "Python 3"
    },
    "language_info": {
      "name": "python"
    }
  },
  "cells": [
    {
      "cell_type": "markdown",
      "metadata": {
        "id": "view-in-github",
        "colab_type": "text"
      },
      "source": [
        "<a href=\"https://colab.research.google.com/github/Gabeduffy/ADS500B/blob/main/Final_Project.ipynb\" target=\"_parent\"><img src=\"https://colab.research.google.com/assets/colab-badge.svg\" alt=\"Open In Colab\"/></a>"
      ]
    },
    {
      "cell_type": "markdown",
      "source": [
        "Whatt areas the hows"
      ],
      "metadata": {
        "id": "fyVmlhNnlElP"
      }
    },
    {
      "cell_type": "code",
      "execution_count": null,
      "metadata": {
        "id": "sgaWjSWG0D9h"
      },
      "outputs": [],
      "source": [
        "#imports the needed libraries into the current work environment\n",
        "import numpy as np\n",
        "import pandas as pd\n",
        "import matplotlib as mpl\n",
        "import matplotlib.pyplot as plt\n",
        "import seaborn as sns"
      ]
    },
    {
      "cell_type": "code",
      "source": [
        "# Let's upload the house_sales.csv data set\n",
        "from google.colab import files\n",
        "house_sales = files.upload()"
      ],
      "metadata": {
        "id": "Ft67hwEX0VZB"
      },
      "execution_count": null,
      "outputs": []
    },
    {
      "cell_type": "code",
      "source": [
        "# imports the working file into a dataframe and names it \"house_sales\" and print first five observations\n",
        "house_sales = pd.read_csv(\"house_sales.csv\")\n",
        "house_sales.head()"
      ],
      "metadata": {
        "id": "9hQ8ohjU0J3b"
      },
      "execution_count": null,
      "outputs": []
    },
    {
      "cell_type": "markdown",
      "source": [
        "The key variable for understanding the distribution of house prices are price column (which provides the sale prices of the houses) and zipcode column (identifies the zip codes of the houses, allowing you to group the data by zip code and analyze the distribution of house prices within each area)."
      ],
      "metadata": {
        "id": "CiCFN7V7xGBx"
      }
    },
    {
      "cell_type": "code",
      "source": [
        "# info() method describes the characteristics of the dataframe such as dimensions, datatype, and import methods used.\n",
        "house_sales.info()"
      ],
      "metadata": {
        "id": "VNiOSsFW2Hyd"
      },
      "execution_count": null,
      "outputs": []
    },
    {
      "cell_type": "code",
      "source": [
        "# provide a descriptive statistics of the \"house_sales.csv\" dataframe\n",
        "house_sales.describe()"
      ],
      "metadata": {
        "id": "-l9ngk9L2zGy"
      },
      "execution_count": null,
      "outputs": []
    },
    {
      "cell_type": "code",
      "source": [
        "# Checking  for missing values\n",
        "house_sales.isnull().sum()"
      ],
      "metadata": {
        "id": "ymFI8ruF313d"
      },
      "execution_count": null,
      "outputs": []
    },
    {
      "cell_type": "code",
      "source": [
        "#Imputing missing values with the mode (most frequent value) of the categorical columns\n",
        "house_sales['waterfront'].fillna(house_sales['waterfront'].mode()[0], inplace=True)\n",
        "house_sales['view'].fillna(house_sales['view'].mode()[0], inplace=True)\n",
        "house_sales['condition'].fillna(house_sales['condition'].mode()[0], inplace=True)\n",
        "house_sales['grade'].fillna(house_sales['grade'].mode()[0], inplace=True)\n",
        "\n",
        "# Imputing missing values for numerical columns with mean\n",
        "house_sales['bedrooms'].fillna(house_sales['bedrooms'].mean(), inplace=True)\n",
        "house_sales['bathrooms'].fillna(house_sales['bathrooms'].mean(), inplace=True)\n",
        "house_sales['sqft_living'].fillna(house_sales['sqft_living'].mean(), inplace=True)\n",
        "house_sales['sqft_lot'].fillna(house_sales['sqft_lot'].mean(), inplace=True)\n",
        "\n",
        "# Verifing that there are no more missing values in the \"race\" column\n",
        "print(house_sales.isnull().sum())"
      ],
      "metadata": {
        "id": "WORG0PKh4YqH"
      },
      "execution_count": null,
      "outputs": []
    },
    {
      "cell_type": "code",
      "source": [],
      "metadata": {
        "id": "ENom6Q2kR9ZJ"
      },
      "execution_count": null,
      "outputs": []
    },
    {
      "cell_type": "markdown",
      "source": [
        "**Imputing with Mode or Mean:**\n",
        "\n",
        "For categorical columns like waterfront, view, condition, and grade, imputing missing values with the mode (most frequent value) of each respective column.\n",
        "\n",
        "For numerical columns like bedrooms, bathrooms, sqft_living, and sqft_lot imputing the missing values with the mean of each respective column.\n",
        "\n",
        "\n",
        "\n",
        "**Dropping Missing Values:**\n",
        "\n",
        "If the proportion of missing values is very small and randomly distributed, then dropping those rows entirely is better choice.\n",
        "However, if dropping missing values would result in a significant loss of data, especially in columns critical for analysis, imputation might be a better choice.\n",
        "\n",
        "\n",
        "\n"
      ],
      "metadata": {
        "id": "-a3zIz54zqRz"
      }
    },
    {
      "cell_type": "markdown",
      "source": [
        "**4.)Reduce redundant data and perform need based discretization**\n"
      ],
      "metadata": {
        "id": "wZCPywUdx3ca"
      }
    },
    {
      "cell_type": "markdown",
      "source": [
        "**Step #1 Loading Data Using Pandas and performing data reduction of redundant and irrelevent columns**"
      ],
      "metadata": {
        "id": "8Bn7YIJlyimI"
      }
    },
    {
      "cell_type": "code",
      "source": [
        "# uploading dataset to google colab\n",
        "from google.colab import files\n",
        "uploaded = files.upload()\n",
        "#read data into Dataframe\n",
        "import pandas as pd\n",
        "house_sales = pd.read_csv('house_sales.csv')\n",
        "#priniting first few rows of dataset to makesure uploaded properly\n",
        "print(df.head())\n",
        "\n"
      ],
      "metadata": {
        "id": "ZrqtVrNfy9tz"
      },
      "execution_count": null,
      "outputs": []
    },
    {
      "cell_type": "code",
      "source": [
        "# identifying redundant or irrelevent columns\n",
        "columns_to_drop = ['id', 'date', 'floors', 'sqft_above','sqft_basement','yr_built','lat','long', 'yr_renovated','sqft_living15','sqft_lot15']\n",
        "# remove identified columns from the Dataframe\n",
        "df_cleaned = df.drop(columns=columns_to_drop)\n",
        "#priniting cleaned data to make sure columns were dropped\n",
        "print(df_cleaned.head())\n"
      ],
      "metadata": {
        "id": "uQqd-xGq1iE6"
      },
      "execution_count": null,
      "outputs": []
    },
    {
      "cell_type": "markdown",
      "source": [
        "**Step #2 Handle any missing data**"
      ],
      "metadata": {
        "id": "cuFaSO5O65vs"
      }
    },
    {
      "cell_type": "code",
      "source": [
        "import pandas as pd\n",
        "house_sales = pd.read_csv('house_sales.csv')\n",
        "\n",
        "# identifying missing values\n",
        "missing_values = df.isna().sum()\n",
        "\n",
        "#Imputing missing values with the mode (most frequent value) of the categorical columns\n",
        "house_sales['waterfront'].fillna(house_sales['waterfront'].mode()[0], inplace=True)\n",
        "house_sales['view'].fillna(house_sales['view'].mode()[0], inplace=True)\n",
        "house_sales['condition'].fillna(house_sales['condition'].mode()[0], inplace=True)\n",
        "house_sales['grade'].fillna(house_sales['grade'].mode()[0], inplace=True)\n",
        "\n",
        "# Imputing missing values for numerical columns with mean\n",
        "house_sales['bedrooms'].fillna(house_sales['bedrooms'].mean(), inplace=True)\n",
        "house_sales['bathrooms'].fillna(house_sales['bathrooms'].mean(), inplace=True)\n",
        "house_sales['sqft_living'].fillna(house_sales['sqft_living'].mean(), inplace=True)\n",
        "house_sales['sqft_lot'].fillna(house_sales['sqft_lot'].mean(), inplace=True)\n",
        "\n",
        "# Verifing that there are no more missing values\n",
        "print(house_sales.isnull().sum())\n",
        "\n",
        "\n",
        "\n"
      ],
      "metadata": {
        "id": "wTB3a4Id7NnM"
      },
      "execution_count": null,
      "outputs": []
    },
    {
      "cell_type": "markdown",
      "source": [
        "**Identify numerical columns that require discretization**"
      ],
      "metadata": {
        "id": "WLGcIunN-iIm"
      }
    },
    {
      "cell_type": "markdown",
      "source": [
        "**Analyze numerical columns through statistics and visualizations**"
      ],
      "metadata": {
        "id": "htaowyz7Pvsm"
      }
    },
    {
      "cell_type": "code",
      "source": [
        "# select numerical columns for discretization\n",
        "numerical_columns = ['bedrooms', 'bathrooms', 'sqft_living', 'sqft_lot']\n",
        "\n",
        "# display statistics of numerical columns\n",
        "print(df[numerical_columns].describe())\n",
        "\n"
      ],
      "metadata": {
        "id": "6dRDmqDJ-yKt"
      },
      "execution_count": null,
      "outputs": []
    },
    {
      "cell_type": "code",
      "source": [
        "# Visualize the distribution of values in each numerical column\n",
        "import matplotlib.pyplot as plt\n",
        "import seaborn as sns\n",
        "\n",
        "# give visualization charcteristics:\n",
        "for column in numerical_columns:\n",
        "  plt.figure(figsize=(8,6))\n",
        "  sns.histplot(df[column], bins=20, kde=True)\n",
        "  plt.title(f'Distrubution of {column}')\n",
        "  plt.xlabel(column)\n",
        "  plt.ylabel('Frequency')\n",
        "  plt.show()\n"
      ],
      "metadata": {
        "id": "MpNpt3SgP7Wn"
      },
      "execution_count": null,
      "outputs": []
    }
  ]
}